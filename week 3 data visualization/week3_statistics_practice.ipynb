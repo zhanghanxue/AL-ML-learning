{
 "cells": [
  {
   "cell_type": "markdown",
   "id": "b438a05b",
   "metadata": {},
   "source": [
    "# 📊 Week 3 – Task 4: Statistics Practice\n",
    "\n",
    "## 1. Variance & Standard Deviation Refresher\n",
    "- Variance measures the spread of data (average squared distance from mean).\n",
    "- Standard deviation is the square root of variance (same units as the data, easier to interpret).\n",
    "- Why important? In ML, these are essential for normalization, scaling, and understanding feature variability."
   ]
  },
  {
   "cell_type": "code",
   "execution_count": 1,
   "id": "8dc23a67",
   "metadata": {},
   "outputs": [],
   "source": [
    "import numpy as np\n",
    "import pandas as pd"
   ]
  },
  {
   "cell_type": "markdown",
   "id": "c9c7d8e8",
   "metadata": {},
   "source": [
    "## 2. Example with Simple Dataset\n",
    "Let's calculate mean, variance, and standard deviation on a small dataset."
   ]
  },
  {
   "cell_type": "code",
   "execution_count": 2,
   "id": "451a6b6b",
   "metadata": {},
   "outputs": [
    {
     "name": "stdout",
     "output_type": "stream",
     "text": [
      "Mean: 5.0\n",
      "Variance: 4.0\n",
      "Standard Deviation: 2.0\n"
     ]
    }
   ],
   "source": [
    "data = np.array([2, 4, 4, 4, 5, 5, 7, 9])\n",
    "print(\"Mean:\", np.mean(data))\n",
    "print(\"Variance:\", np.var(data))\n",
    "print(\"Standard Deviation:\", np.std(data))"
   ]
  },
  {
   "cell_type": "markdown",
   "id": "a2a60885",
   "metadata": {},
   "source": [
    "## 3. Simulate Dice Rolls\n",
    "- Roll a 6-sided die 1,000 times.\n",
    "- Calculate mean, variance, std with NumPy.\n",
    "- Expected results:\n",
    "  - Mean ≈ 3.5\n",
    "  - Variance ≈ 2.9\n",
    "  - Std Dev ≈ 1.7"
   ]
  },
  {
   "cell_type": "code",
   "execution_count": 3,
   "id": "131df3bf",
   "metadata": {},
   "outputs": [
    {
     "name": "stdout",
     "output_type": "stream",
     "text": [
      "Mean of dice rolls: 3.543\n",
      "Variance of dice rolls: 2.846151\n",
      "Standard Deviation of dice rolls: 1.6870539410463437\n"
     ]
    }
   ],
   "source": [
    "dice = np.random.randint(1, 7, size=1000)\n",
    "print(\"Mean of dice rolls:\", np.mean(dice))\n",
    "print(\"Variance of dice rolls:\", np.var(dice))\n",
    "print(\"Standard Deviation of dice rolls:\", np.std(dice))"
   ]
  },
  {
   "cell_type": "markdown",
   "id": "2c165129",
   "metadata": {},
   "source": [
    "## 4. Verify with Pandas\n",
    "Convert the dice rolls into a Pandas Series and use:\n",
    "- `.mean()`\n",
    "- `.var()` (note: Pandas uses sample variance by default)\n",
    "- `.std()`"
   ]
  },
  {
   "cell_type": "code",
   "execution_count": 4,
   "id": "25699f1b",
   "metadata": {},
   "outputs": [
    {
     "name": "stdout",
     "output_type": "stream",
     "text": [
      "Pandas Mean of dice rolls: 3.543\n",
      "Pandas Variance of dice rolls: 2.8489999999999998\n",
      "Pandas Standard Deviation of dice rolls: 1.6878981011897607\n"
     ]
    }
   ],
   "source": [
    "dice_series = pd.Series(dice)\n",
    "print(\"Pandas Mean of dice rolls:\", dice_series.mean())\n",
    "print(\"Pandas Variance of dice rolls:\", dice_series.var())\n",
    "print(\"Pandas Standard Deviation of dice rolls:\", dice_series.std())"
   ]
  },
  {
   "cell_type": "markdown",
   "id": "de438063",
   "metadata": {},
   "source": [
    "## 5. Why Does This Matter in ML?\n",
    "Write a short explanation:\n",
    "- Variance and std measure how spread out the data is.\n",
    "- Features with high variance can dominate learning algorithms.\n",
    "- Many ML algorithms (e.g., k-NN, PCA, linear regression) assume normalized data.\n",
    "- Scaling often uses standard deviation (z-score normalization)."
   ]
  },
  {
   "cell_type": "markdown",
   "id": "2f04f24e",
   "metadata": {},
   "source": [
    "### ✅ Summary\n",
    "- Learned to calculate variance & std with NumPy and Pandas.\n",
    "- Simulated dice rolls to understand expected values.\n",
    "- Connected variance/std to their importance in ML."
   ]
  },
  {
   "cell_type": "markdown",
   "id": "54b9fc80",
   "metadata": {},
   "source": [
    "## 6. Array Creation\n",
    "- Create arrays with np.array, np.zeros, np.ones, np.arange, np.linspace.\n",
    "- Inspect shape, size, and dtype.\n"
   ]
  },
  {
   "cell_type": "code",
   "execution_count": null,
   "id": "3b5b0add",
   "metadata": {},
   "outputs": [
    {
     "name": "stdout",
     "output_type": "stream",
     "text": [
      "Array using arange: [0 1 2 3 4 5 6 7 8 9]\n",
      "Array using linspace: [0.   0.25 0.5  0.75 1.  ]\n",
      "Array of zeros:\n",
      " [[0. 0. 0. 0.]\n",
      " [0. 0. 0. 0.]\n",
      " [0. 0. 0. 0.]]\n"
     ]
    }
   ],
   "source": [
    "arr = np.arange(10)  # Array from 0 to 9\n",
    "arr2 = np.linspace(0, 1, 5)  # 5 values from 0 to 1\n",
    "arr3 = np.zeros((3, 4))  # 3x4 array of zeros\n",
    "\n",
    "print(\"Array using arange:\", arr)\n",
    "print(\"Array using linspace:\", arr2)\n",
    "print(\"Array of zeros:\\n\", arr3)"
   ]
  },
  {
   "cell_type": "markdown",
   "id": "0213e66b",
   "metadata": {},
   "source": [
    "## 7. Indexing & Slicing\n",
    "- Access single elements, slices, and use boolean indexing.\n",
    "- Practice on both 1D and 2D arrays.\n"
   ]
  },
  {
   "cell_type": "code",
   "execution_count": null,
   "id": "b38a8f18",
   "metadata": {},
   "outputs": [
    {
     "name": "stdout",
     "output_type": "stream",
     "text": [
      "Original 1D array: [0 1 2 3 4 5 6 7 8 9]\n",
      "Sliced 1D array (indices 2 to 5): [2 3 4 5]\n",
      "Boolean indexing (elements > 5): [6 7 8 9]\n",
      "Original 2D array:\n",
      " [[ 0  1  2  3  4]\n",
      " [ 5  6  7  8  9]\n",
      " [10 11 12 13 14]\n",
      " [15 16 17 18 19]]\n",
      "Sliced 2D array (rows 1 to 3, cols 2 to 4):\n",
      " [[ 7  8  9]\n",
      " [12 13 14]]\n",
      "Boolean indexing (elements > 10):\n",
      " [11 12 13 14 15 16 17 18 19]\n"
     ]
    }
   ],
   "source": [
    "arr_1d = np.arange(10)\n",
    "print(\"Original 1D array:\", arr_1d)\n",
    "print(\"Sliced 1D array (indices 2 to 5):\", arr_1d[2:6])\n",
    "print(\"Boolean indexing (elements > 5):\", arr_1d[arr_1d > 5])\n",
    "\n",
    "arr_2d = np.arange(20).reshape(4, 5)\n",
    "print(\"Original 2D array:\\n\", arr_2d)\n",
    "print(\"Sliced 2D array (rows 1 to 3, cols 2 to 4):\\n\", arr_2d[1:3, 2:5])\n",
    "print(\"Boolean indexing (elements > 10):\\n\", arr_2d[arr_2d > 10])"
   ]
  },
  {
   "cell_type": "markdown",
   "id": "5da0dcf9",
   "metadata": {},
   "source": [
    "## 8. Reshaping\n",
    "- Use .reshape(), .flatten(), .ravel().\n",
    "- Stack and concatenate arrays.\n"
   ]
  },
  {
   "cell_type": "code",
   "execution_count": null,
   "id": "304feb5f",
   "metadata": {},
   "outputs": [
    {
     "name": "stdout",
     "output_type": "stream",
     "text": [
      "Reshaped array (5x2):\n",
      " [[0 1]\n",
      " [2 3]\n",
      " [4 5]\n",
      " [6 7]\n",
      " [8 9]]\n",
      "Flattened array: [0 1 2 3 4 5 6 7 8 9]\n",
      "Raveled array: [0 1 2 3 4 5 6 7 8 9]\n",
      "Second array (5x2):\n",
      " [[10 11]\n",
      " [12 13]\n",
      " [14 15]\n",
      " [16 17]\n",
      " [18 19]]\n",
      "Vertically stacked arrays:\n",
      " [[ 0  1]\n",
      " [ 2  3]\n",
      " [ 4  5]\n",
      " [ 6  7]\n",
      " [ 8  9]\n",
      " [10 11]\n",
      " [12 13]\n",
      " [14 15]\n",
      " [16 17]\n",
      " [18 19]]\n",
      "Concatenated arrays along rows:\n",
      " [[ 0  1]\n",
      " [ 2  3]\n",
      " [ 4  5]\n",
      " [ 6  7]\n",
      " [ 8  9]\n",
      " [10 11]\n",
      " [12 13]\n",
      " [14 15]\n",
      " [16 17]\n",
      " [18 19]]\n"
     ]
    }
   ],
   "source": [
    "arr = np.arange(10).reshape(5, 2)\n",
    "print(\"Reshaped array (5x2):\\n\", arr)\n",
    "arr_flat = arr.flatten()\n",
    "print(\"Flattened array:\", arr_flat)\n",
    "arr_ravel = arr.ravel()\n",
    "print(\"Raveled array:\", arr_ravel)\n",
    "arr2 = np.arange(10, 20).reshape(5, 2)\n",
    "print(\"Second array (5x2):\\n\", arr2)\n",
    "stacked = np.vstack((arr, arr2))\n",
    "print(\"Vertically stacked arrays:\\n\", stacked)\n",
    "concatenated = np.concatenate((arr, arr2), axis=0)\n",
    "print(\"Concatenated arrays along rows:\\n\", concatenated)"
   ]
  },
  {
   "cell_type": "markdown",
   "id": "95e09086",
   "metadata": {},
   "source": [
    "## 9. Broadcasting\n",
    "- Add a scalar to an array.\n",
    "- Add arrays of different shapes (row vector + column vector).\n"
   ]
  },
  {
   "cell_type": "code",
   "execution_count": 13,
   "id": "b6f52f10",
   "metadata": {},
   "outputs": [
    {
     "name": "stdout",
     "output_type": "stream",
     "text": [
      "Original array:\n",
      " [[0 1 2 3 4]\n",
      " [5 6 7 8 9]]\n",
      "Array after adding scalar 5:\n",
      " [[ 5  6  7  8  9]\n",
      " [10 11 12 13 14]]\n",
      "Row vector:\n",
      " [[1 2 3 4 5]]\n",
      "Column vector:\n",
      " [[1]\n",
      " [2]]\n",
      "Broadcasted sum of row and column vectors:\n",
      " [[2 3 4 5 6]\n",
      " [3 4 5 6 7]]\n"
     ]
    }
   ],
   "source": [
    "arr = np.arange(10).reshape(2, 5)\n",
    "print(\"Original array:\\n\", arr)\n",
    "scalar_added = arr + 5\n",
    "print(\"Array after adding scalar 5:\\n\", scalar_added)\n",
    "row_vector = np.array([[1, 2, 3, 4, 5]])\n",
    "column_vector = np.array([[1], [2]])\n",
    "print(\"Row vector:\\n\", row_vector)\n",
    "print(\"Column vector:\\n\", column_vector)\n",
    "broadcasted_sum = row_vector + column_vector\n",
    "print(\"Broadcasted sum of row and column vectors:\\n\", broadcasted_sum)\n"
   ]
  },
  {
   "cell_type": "code",
   "execution_count": null,
   "id": "4170941e",
   "metadata": {},
   "outputs": [],
   "source": []
  }
 ],
 "metadata": {
  "kernelspec": {
   "display_name": "Python 3",
   "language": "python",
   "name": "python3"
  },
  "language_info": {
   "codemirror_mode": {
    "name": "ipython",
    "version": 3
   },
   "file_extension": ".py",
   "mimetype": "text/x-python",
   "name": "python",
   "nbconvert_exporter": "python",
   "pygments_lexer": "ipython3",
   "version": "3.12.1"
  }
 },
 "nbformat": 4,
 "nbformat_minor": 5
}
