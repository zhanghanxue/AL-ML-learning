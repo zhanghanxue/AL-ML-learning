{
 "cells": [
  {
   "cell_type": "markdown",
   "id": "b438a05b",
   "metadata": {},
   "source": [
    "# 📊 Week 3 – Task 4: Statistics Practice\n",
    "\n",
    "## 1. Variance & Standard Deviation Refresher\n",
    "- Variance measures the spread of data (average squared distance from mean).\n",
    "- Standard deviation is the square root of variance (same units as the data, easier to interpret).\n",
    "- Why important? In ML, these are essential for normalization, scaling, and understanding feature variability."
   ]
  },
  {
   "cell_type": "code",
   "execution_count": null,
   "id": "8dc23a67",
   "metadata": {},
   "outputs": [],
   "source": [
    "# 📦 Imports\n",
    "# fill code in here (import numpy as np, pandas as pd)"
   ]
  },
  {
   "cell_type": "markdown",
   "id": "c9c7d8e8",
   "metadata": {},
   "source": [
    "## 2. Example with Simple Dataset\n",
    "Let's calculate mean, variance, and standard deviation on a small dataset."
   ]
  },
  {
   "cell_type": "code",
   "execution_count": null,
   "id": "451a6b6b",
   "metadata": {},
   "outputs": [],
   "source": [
    "# fill code in here\n",
    "# Example: data = np.array([2, 4, 4, 4, 5, 5, 7, 9])\n",
    "# print mean, variance, std with NumPy"
   ]
  },
  {
   "cell_type": "markdown",
   "id": "a2a60885",
   "metadata": {},
   "source": [
    "## 3. Simulate Dice Rolls\n",
    "- Roll a 6-sided die 1,000 times.\n",
    "- Calculate mean, variance, std with NumPy.\n",
    "- Expected results:\n",
    "  - Mean ≈ 3.5\n",
    "  - Variance ≈ 2.9\n",
    "  - Std Dev ≈ 1.7"
   ]
  },
  {
   "cell_type": "code",
   "execution_count": null,
   "id": "131df3bf",
   "metadata": {},
   "outputs": [],
   "source": [
    "# fill code in here\n",
    "# dice = np.random.randint(1, 7, size=1000)\n",
    "# print mean, variance, std with NumPy"
   ]
  },
  {
   "cell_type": "markdown",
   "id": "2c165129",
   "metadata": {},
   "source": [
    "## 4. Verify with Pandas\n",
    "Convert the dice rolls into a Pandas Series and use:\n",
    "- `.mean()`\n",
    "- `.var()` (note: Pandas uses sample variance by default)\n",
    "- `.std()`"
   ]
  },
  {
   "cell_type": "code",
   "execution_count": null,
   "id": "25699f1b",
   "metadata": {},
   "outputs": [],
   "source": [
    "# fill code in here\n",
    "# dice_series = pd.Series(dice)\n",
    "# print Pandas mean, var, std"
   ]
  },
  {
   "cell_type": "markdown",
   "id": "de438063",
   "metadata": {},
   "source": [
    "## 5. Why Does This Matter in ML?\n",
    "Write a short explanation:\n",
    "- Variance and std measure how spread out the data is.\n",
    "- Features with high variance can dominate learning algorithms.\n",
    "- Many ML algorithms (e.g., k-NN, PCA, linear regression) assume normalized data.\n",
    "- Scaling often uses standard deviation (z-score normalization)."
   ]
  },
  {
   "cell_type": "markdown",
   "id": "2f04f24e",
   "metadata": {},
   "source": [
    "### ✅ Summary\n",
    "- Learned to calculate variance & std with NumPy and Pandas.\n",
    "- Simulated dice rolls to understand expected values.\n",
    "- Connected variance/std to their importance in ML."
   ]
  }
 ],
 "metadata": {},
 "nbformat": 4,
 "nbformat_minor": 5
}
